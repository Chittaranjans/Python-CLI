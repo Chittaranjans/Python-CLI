{
 "cells": [
  {
   "cell_type": "code",
   "execution_count": 3,
   "id": "d01ea8af-f2c4-4467-992c-d90ed0cfbe85",
   "metadata": {},
   "outputs": [
    {
     "name": "stdout",
     "output_type": "stream",
     "text": [
      "Note: you may need to restart the kernel to use updated packages.\n"
     ]
    },
    {
     "name": "stderr",
     "output_type": "stream",
     "text": [
      "WARNING: Ignoring invalid distribution ~ip (D:\\Dev\\Python-CLI\\venv\\Lib\\site-packages)\n",
      "ERROR: Could not find a version that satisfies the requirement request (from versions: none)\n",
      "\n",
      "[notice] A new release of pip is available: 24.2 -> 24.3.1\n",
      "[notice] To update, run: python.exe -m pip install --upgrade pip\n",
      "ERROR: No matching distribution found for request\n"
     ]
    }
   ],
   "source": [
    "pip install request\n"
   ]
  },
  {
   "cell_type": "code",
   "execution_count": 4,
   "id": "ee914cdd-5efb-4190-98ba-38cf0389380d",
   "metadata": {},
   "outputs": [],
   "source": [
    "import requests"
   ]
  },
  {
   "cell_type": "code",
   "execution_count": 5,
   "id": "bf42b1ba-1582-4914-bd68-333a041c445f",
   "metadata": {},
   "outputs": [],
   "source": [
    "import os"
   ]
  },
  {
   "cell_type": "code",
   "execution_count": 11,
   "id": "de0444af-029e-491d-9d49-b5f2f679cf95",
   "metadata": {},
   "outputs": [
    {
     "name": "stdout",
     "output_type": "stream",
     "text": [
      "[{'_id': '666aaece846ec309f7c1841d', 'name': 'chitta', 'email': 'chitta@123.com', 'password': '1234', '__v': 0}, {'_id': '666bc55bc13eee15b1b56e10', 'username': 'xxxx', 'name': 'jijsji', 'email': 'hduhib@123.com', 'password': '1234', '__v': 0}, {'_id': '666bc5a5c13eee15b1b56e18', 'username': 'xxdf', 'name': 'xxx', 'email': 'hduhib@12r.com', 'password': '1234', '__v': 0}, {'_id': '666bc977817524f431c9bffb', 'username': 'xffxdf', 'name': 'xxxff', 'email': 'hduhib@12jeghuh.com', 'password': '$2b$10$EmtgHXHuBA26eovmk8X75.N6acr45qWE3C9/PeKWGl3VlVcH/c4PK', '__v': 0}, {'_id': '666bcc625d10a9e9030e0f0f', 'username': 'xffxdfff', 'name': 'xxxff', 'email': 'hduhib@12jeghudfdh.com', 'password': '1234r4efefefef5', '__v': 0}, {'_id': '666bccca587128d30dd86489', 'username': 'xffxdchfff', 'name': 'xxxff', 'email': 'hduhib@ggg.com', 'password': \"async () => {\\r\\n            try {\\r\\n\\r\\n                const users = await User.find();\\r\\n\\r\\n                for (const user of users) {\\r\\n                    const salt = await bcrypt.genSalt(12);\\r\\n                    const hashedPassword = await bcrypt.hash(user.password, salt);\\r\\n                    user.password = hashedPassword;\\r\\n                    await user.save();\\r\\n                }\\r\\n                console.log('All passwords hashed successfully');\\r\\n\\r\\n            } catch (error) {\\r\\n                console.error('Error hashing passwords:', error.message);\\r\\n            }\\r\\n\\r\\n\\r\\n        }\", '__v': 0}, {'_id': '666bcd7bd9c4bda66b6ccbf3', 'username': 'gita', 'name': 'gittaaaa', 'email': 'gita@fake.gmail.com', 'password': '$2b$10$68up9WEh6zDkq9CEPzUkfOHn8yyMajr9le1/K4Ri.t.P39O/u9mjG', '__v': 0}, {'_id': '666bd14f0e0ec0886097cbee', 'username': 'gitca', 'name': 'gittacaaa', 'email': 'gitca@fake.gmail.com', 'password': '$2b$10$7jJnqhWeMJUTWXnuAW.DweZHR1rH4F5XZRvpyzyYRyRBbxbXfvEKa', '__v': 0}, {'_id': '666bd32cac8b2d52b30183f6', 'username': 'gitanjali', 'name': 'gittanjali', 'email': 'gitanjali@fake.gmail.com', 'password': '$2b$10$ntNmQirpk8x14bRB/ekM4uXQ96pzszvGI8PqwTXFX0lqcFbXbL9Te', '__v': 0}, {'_id': '666bd5a8561cc83350ce95d5', 'username': 'gyana', 'name': 'gyana', 'email': 'gyana@fake.gmail.com', 'password': '$2b$10$piNucQP0S1arOjnQJXlXBOWgqTEk4cKawBvhVriOLmnmi87OSbLLS', '__v': 0}, {'_id': '666bf50618526a8fe91f69bd', 'username': 's', 'name': 'chiita', 'email': 'ashr@gmail.com', 'password': '$2b$10$bqkRcqtmev/pMg.pK1jlC..hXaahUUwZRWkrQeY.I/g50j0P1X7QO', '__v': 0}, {'_id': '666bfa2618526a8fe91f69c4', 'username': 'vvvv', 'name': 'vvvv', 'email': 'vvvv@dev.com', 'password': '$2b$10$SPPX5jS873crKZoFhCdGlOR1F9iCjupOePBBT0Lll835S0as/pf86', '__v': 0}, {'_id': '666c34012c07ba7de2831811', 'username': 'chitta18', 'name': 'Chittaranjan Sahoo', 'email': 'chittaedu18@gmail.com', 'password': '$2b$10$HIKF.kiao.OBuvlZGuWonudTKS4nfB1Zi5Kzk34nxVHNunfQGpAum', '__v': 0}, {'_id': '666c379c2c07ba7de2831818', 'username': 'ccccc', 'name': 'ccc', 'email': 'ccc@cc.com', 'password': '$2b$10$6yapmHeXpn780KZfxoO77O/Tyvx4eWwHxcGYaZeztf8ffcD4PM0QG', '__v': 0}, {'_id': '666c734668824324d7c26ab1', 'username': 'sdfvfsv', 'name': 'chiita', 'email': 'xxx@x.com', 'password': '$2b$10$.l/q/ODSWrTgO6lA/ncXC.FLeVmL4bnPZYWGJ3wfmC2vnjOwIIKmu', '__v': 0}, {'_id': '666c75c1c33cae5978472aeb', 'username': 'szz', 'name': 'chiita', 'email': 'ccccc@cc.com', 'password': '$2b$10$EwO.yLi4U6JnwrX3I9LXB.66zESrQIKjn//PwFXr3/QjtRNv1HiF6', '__v': 0}, {'_id': '666c7acbb6a69aa4f5d881ea', 'username': 'sdfvfsvsdsd', 'name': 'dsdd', 'email': 'ccc@cc.commmmm', 'password': '$2b$10$uAgfwe34BXFK7emk4.j63ed.20l8mdu2.8y8qsBHy3nwfhaCh3Ifu', '__v': 0}, {'_id': '666d1c302816af6fb22e96b9', 'username': 'jii', 'name': 'jiiii', 'email': 'jiii@jii.com', 'password': '$2b$10$0.O2TeQBUz1SMFwcyU4w5.QHMu9ILQamUrYf.eYlX/zeIRIDvquuC', '__v': 0}, {'_id': '666d301f6073413e4025a8c0', 'username': 'cccccc', 'name': 'Chittaranjan', 'email': 'scsc@cc.com', 'password': '$2b$10$yVF73pJIIL59sZV6gLw.Euss77gm3IVwEvXTnaTJDnda1Mye6q4Ke', '__v': 0}, {'_id': '666d365c6073413e4025a8cd', 'username': 'dddd', 'name': 'ddd', 'email': 'dddd@dd.com', 'password': '$2b$10$KReWEoZ/CNv2C/O1HtSGJuoWNmRlJvikngP7zAOHd2v1YIECBAa2a', '__v': 0}, {'_id': '666d3dbe6073413e4025a8df', 'username': 'ddddddd', 'name': 'chiita', 'email': 'aaaa@aa.com', 'password': '$2b$10$2RhID7Jrxw4W84cjTPoB3e6LIY4bRNjx2hIgqvw2zuvCAnXg45Moa', '__v': 0}, {'_id': '666d6a506073413e4025a8ec', 'username': 'zxzx', 'name': 'zxzx', 'email': 'z@z.com', 'password': '$2b$10$Kahkumq0aQPUydrz0DWGfemqP1v39StfHX8icnFcPyGUG60CUxmxe', '__v': 0}, {'_id': '666d6d196073413e4025a8f1', 'username': 'sssss', 'name': 'ssss', 'email': 'sss@ss.com', 'password': '$2b$10$FB51hj.9CK0ivbk54.RhXOFSdAAoLkYrLCBDGzr.ZjW7u47Cy92r.', '__v': 0}, {'_id': '666d6f256073413e4025a90e', 'username': 'hiichitta', 'name': 'chiitu', 'email': 'hiii@chitta.com', 'password': '$2b$10$r0aEphGsJ3Bpu4NFuzIBVesVH4ep384qkgnv/yPUgA79ZHSr4Dvaq', '__v': 0}, {'_id': '666d6f986073413e4025a91e', 'username': 'mantu', 'name': 'mantu', 'email': 'mantu@mantu.com', 'password': '$2b$10$R5eMkjjZVGbNx9I17KbeFOdwuCOSiC9g5tZEGgMkWld.bmqwTXNsy', '__v': 0}, {'_id': '666f98f56f1bbfbf9e6e3381', 'username': 'bb', 'name': 'bb', 'email': 'bbb@bb.com', 'password': '$2b$10$B7tlMPQ7f8fR6KllAZSgYuzuRUm82fEL0X5xfkolofkyGHk/CDOGm', '__v': 0}, {'_id': '6671b1305b20141ce48bcd0d', 'username': 'chittaranjans', 'name': 'chitta', 'email': 'chittaranjans@dev.com', 'password': '$2b$10$XyAt4P6LyLWtkbapMkPTROSBInEpOwD4RZsZ00FpuTSgsw2locxey', '__v': 0}, {'_id': '66726a94a5b61364c7701703', 'username': 'lllll', 'name': 'lll', 'email': 'lll@dev.com', 'password': '$2b$10$kW7ckWvA3P3rvRyMRYGkP.OPzvF6fKl.psxIoo.3fWMnJhE8kdTcy', '__v': 0}, {'_id': '66726b0ba5b61364c7701707', 'username': 'sahil', 'name': 'sahil12', 'email': 'sahil@dev.com', 'password': '$2b$10$vp.Qx1iP7kLevAdv8ZBW2.9IkDgfDWHFTOTLxW/cXd0GWofJwpiPe', '__v': 0}, {'_id': '66a0cfd50217aef7e9338fb7', 'username': 'ghurhgheru', 'name': 'chiita', 'email': 'chitademo@gmail.com', 'password': '$2b$10$hDijt33p8S4VHlX9tIsvYewPHHDSXNb9HJiVFKFp.ev4hm/e/Rxle', '__v': 0}, {'_id': '66dde677938ce0387136af8d', 'username': 'gyanaa', 'name': 'gyana', 'email': 'gyanaa@fake.gmail.com', 'password': '$2b$10$W81wzZPk767FjQ6X8dpBWud2qbTIafyOndpuYDeTZoT75wT4680d.', '__v': 0}, {'_id': '66dde6ff938ce0387136af90', 'username': 'gyanaaa', 'name': 'gyanaa', 'email': 'gyanaaa@fake.gmail.com', 'password': '$2b$10$nOSPOeBT1OOTksK2GGBo6utNFgO1yFcr.XzKgmu384RUhhZFvjHy2', '__v': 0}, {'_id': '66de82a7fd849d13306aa9d8', 'username': 'ssssss', 'name': 'eferfrfewr', 'email': 'dfewew@gmail.com', 'password': '$2b$10$ZpcpStZj.oyTacCLM7u0PO2WiFwsS9.mycvAgLh7wgRzqnH1bS79q', '__v': 0}, {'_id': '66de82c9fd849d13306aa9db', 'username': 'sdcccedsce', 'name': 'dcdcescedscdscdsc', 'email': 'dcdcdsccdwcewcwcedw@gmail.com', 'password': '$2b$10$lqyp5.dQ9yWaxEnzwsHfY.urxH/L0.GkZwhEpIQ4FBBk.BSCcjCm6', '__v': 0}, {'_id': '66de85159e1257f3c2343217', 'username': 'ytyty', 'name': 'tytytyt', 'email': 'ytyty@gmail.com', 'password': '$2b$10$Xc2yURP47M6DSGVURgvjc.kcXq38Yua9DjPctcOSd6x.MTVGVBNZO', '__v': 0}, {'_id': '66de855f9e1257f3c234321d', 'username': 'chittaranjanssss', 'name': 'fefrefrefre', 'email': 'wfwrrfrwfrw@gmail.com', 'password': '$2b$10$GpHxs7CW7ABobQbr0X99Bexs8AiF6dZ9nejXL/qltlo7Qw74wZMG6', '__v': 0}, {'_id': '66de875946652e2c4fd9467b', 'username': 'knfjnfninfinej', 'name': 'lmdijeudndiejk', 'email': 'koimdjuifhunjkd@gmail.com', 'password': '$2b$10$bHWjIxkQlpZGNKYgg4LKSeIlxkfz09lWFP79yxTz2qg3CSet6biea', '__v': 0}, {'_id': '67440ff91315b5e5b0b63893', 'username': 'huwfhrwfhr78', 'name': 'hfihewrufhryufgueri', 'email': 'uiewfgewfg@gmail.com', 'password': '$2b$10$LSXNfbm/EG2M3LWpuuMXAuN8KkfZ3bhNmctrI1hJDJoA4aJxq3fE6', '__v': 0}, {'_id': '67441014da3f11a6a6e4fb1e', 'username': 'fniiwfhyuewrhfyuwr', 'name': 'nnewlhfvfgew', 'email': 'bwcbfberg@gmail.com', 'password': '$2b$10$K2AHTVVX3tLDIskfzJtec.BZBVJn4MiAlazUy4rPy7vTUvcNqn7r.', '__v': 0}]\n"
     ]
    }
   ],
   "source": [
    "import json\n",
    "def get_data(url):\n",
    "    response = requests.get(url)\n",
    "    data = response.json()\n",
    "    print(data)\n",
    "\n",
    "get_data(\"https://keka-project.vercel.app/get/users\")"
   ]
  },
  {
   "cell_type": "code",
   "execution_count": null,
   "id": "991e0dca-e8ff-4675-b690-7f2c6336ca64",
   "metadata": {},
   "outputs": [],
   "source": []
  },
  {
   "cell_type": "code",
   "execution_count": null,
   "id": "d8361000-08e8-49fb-82cf-6ec101ea6963",
   "metadata": {},
   "outputs": [],
   "source": []
  },
  {
   "cell_type": "code",
   "execution_count": null,
   "id": "88a6d191-78b1-43ab-95f8-b3c03fd28395",
   "metadata": {},
   "outputs": [],
   "source": []
  },
  {
   "cell_type": "code",
   "execution_count": null,
   "id": "c10ca122-d8bb-4131-ae30-c6f7eb1b290c",
   "metadata": {},
   "outputs": [],
   "source": []
  }
 ],
 "metadata": {
  "kernelspec": {
   "display_name": "Python 3 (ipykernel)",
   "language": "python",
   "name": "python3"
  },
  "language_info": {
   "codemirror_mode": {
    "name": "ipython",
    "version": 3
   },
   "file_extension": ".py",
   "mimetype": "text/x-python",
   "name": "python",
   "nbconvert_exporter": "python",
   "pygments_lexer": "ipython3",
   "version": "3.13.0"
  }
 },
 "nbformat": 4,
 "nbformat_minor": 5
}
